{
 "cells": [
  {
   "cell_type": "code",
   "execution_count": 7,
   "metadata": {},
   "outputs": [
    {
     "name": "stdout",
     "output_type": "stream",
     "text": [
      "Overwriting main.py\n"
     ]
    }
   ],
   "source": []
  },
  {
   "cell_type": "code",
   "execution_count": 11,
   "metadata": {},
   "outputs": [
    {
     "name": "stdout",
     "output_type": "stream",
     "text": [
      " Volume in drive C has no label.\n",
      " Volume Serial Number is 96AA-33BC\n",
      "\n",
      " Directory of c:\\Users\\NDUKWE\\Documents\\Documents\\Code\\MLandAI\\news harbor\\notebook\n",
      "\n",
      "24/11/2023  08:06 PM    <DIR>          .\n",
      "24/11/2023  07:54 PM    <DIR>          ..\n",
      "24/11/2023  08:07 PM             1,193 main.ipynb\n",
      "24/11/2023  08:06 PM                24 main.py\n",
      "               2 File(s)          1,217 bytes\n",
      "               2 Dir(s)  158,146,072,576 bytes free\n"
     ]
    }
   ],
   "source": [
    "!dir"
   ]
  },
  {
   "cell_type": "code",
   "execution_count": null,
   "metadata": {},
   "outputs": [],
   "source": []
  }
 ],
 "metadata": {
  "kernelspec": {
   "display_name": "Python 3 (ipykernel)",
   "language": "python",
   "name": "python3"
  },
  "language_info": {
   "codemirror_mode": {
    "name": "ipython",
    "version": 3
   },
   "file_extension": ".py",
   "mimetype": "text/x-python",
   "name": "python",
   "nbconvert_exporter": "python",
   "pygments_lexer": "ipython3",
   "version": "3.10.7"
  }
 },
 "nbformat": 4,
 "nbformat_minor": 2
}
