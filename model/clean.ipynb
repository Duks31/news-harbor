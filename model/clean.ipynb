{
 "cells": [
  {
   "cell_type": "code",
   "execution_count": null,
   "metadata": {},
   "outputs": [],
   "source": [
    "import pandas as pd"
   ]
  },
  {
   "cell_type": "code",
   "execution_count": 17,
   "metadata": {},
   "outputs": [],
   "source": [
    "df = pd.read_csv(\"../data/data.csv\")\n"
   ]
  },
  {
   "cell_type": "code",
   "execution_count": 18,
   "metadata": {},
   "outputs": [
    {
     "data": {
      "text/html": [
       "<div>\n",
       "<style scoped>\n",
       "    .dataframe tbody tr th:only-of-type {\n",
       "        vertical-align: middle;\n",
       "    }\n",
       "\n",
       "    .dataframe tbody tr th {\n",
       "        vertical-align: top;\n",
       "    }\n",
       "\n",
       "    .dataframe thead th {\n",
       "        text-align: right;\n",
       "    }\n",
       "</style>\n",
       "<table border=\"1\" class=\"dataframe\">\n",
       "  <thead>\n",
       "    <tr style=\"text-align: right;\">\n",
       "      <th></th>\n",
       "      <th>Source Name</th>\n",
       "      <th>Author</th>\n",
       "      <th>Title</th>\n",
       "      <th>Description</th>\n",
       "      <th>Content</th>\n",
       "      <th>URL</th>\n",
       "    </tr>\n",
       "  </thead>\n",
       "  <tbody>\n",
       "    <tr>\n",
       "      <th>0</th>\n",
       "      <td>The Wall Street Journal</td>\n",
       "      <td>Joanna Stern</td>\n",
       "      <td>He Stole Hundreds of iPhones and Looted People...</td>\n",
       "      <td>A convicted iPhone thief explains how a vulner...</td>\n",
       "      <td>https://www.wsj.com/tech/personal-tech/he-stol...</td>\n",
       "      <td>NaN</td>\n",
       "    </tr>\n",
       "    <tr>\n",
       "      <th>1</th>\n",
       "      <td>NDTV News</td>\n",
       "      <td>NaN</td>\n",
       "      <td>21 Cases Of New Covid Variant JN.1 In India Co...</td>\n",
       "      <td>India has so far reported 21 cases of the new ...</td>\n",
       "      <td>https://www.ndtv.com/india-news/21-cases-of-ne...</td>\n",
       "      <td>NaN</td>\n",
       "    </tr>\n",
       "    <tr>\n",
       "      <th>2</th>\n",
       "      <td>Hindustan Times</td>\n",
       "      <td>Affiliate Desk</td>\n",
       "      <td>10 best Samsung 6.5 kg top load washing machin...</td>\n",
       "      <td>We compare the Samsung 6.5 kg top load washing...</td>\n",
       "      <td>https://www.hindustantimes.com/technology/10-b...</td>\n",
       "      <td>NaN</td>\n",
       "    </tr>\n",
       "    <tr>\n",
       "      <th>3</th>\n",
       "      <td>[Removed]</td>\n",
       "      <td>NaN</td>\n",
       "      <td>[Removed]</td>\n",
       "      <td>[Removed]</td>\n",
       "      <td>https://removed.com</td>\n",
       "      <td>NaN</td>\n",
       "    </tr>\n",
       "    <tr>\n",
       "      <th>4</th>\n",
       "      <td>Livelaw.in</td>\n",
       "      <td>Awstika Das</td>\n",
       "      <td>CJI DY Chandrachud Flagged Anomalies In GST Ap...</td>\n",
       "      <td>Union Finance Minister Nirmala Sitharaman on T...</td>\n",
       "      <td>https://www.livelaw.in/top-stories/chief-justi...</td>\n",
       "      <td>NaN</td>\n",
       "    </tr>\n",
       "  </tbody>\n",
       "</table>\n",
       "</div>"
      ],
      "text/plain": [
       "               Source Name          Author  \\\n",
       "0  The Wall Street Journal    Joanna Stern   \n",
       "1                NDTV News             NaN   \n",
       "2          Hindustan Times  Affiliate Desk   \n",
       "3                [Removed]             NaN   \n",
       "4               Livelaw.in     Awstika Das   \n",
       "\n",
       "                                               Title  \\\n",
       "0  He Stole Hundreds of iPhones and Looted People...   \n",
       "1  21 Cases Of New Covid Variant JN.1 In India Co...   \n",
       "2  10 best Samsung 6.5 kg top load washing machin...   \n",
       "3                                          [Removed]   \n",
       "4  CJI DY Chandrachud Flagged Anomalies In GST Ap...   \n",
       "\n",
       "                                         Description  \\\n",
       "0  A convicted iPhone thief explains how a vulner...   \n",
       "1  India has so far reported 21 cases of the new ...   \n",
       "2  We compare the Samsung 6.5 kg top load washing...   \n",
       "3                                          [Removed]   \n",
       "4  Union Finance Minister Nirmala Sitharaman on T...   \n",
       "\n",
       "                                             Content  URL  \n",
       "0  https://www.wsj.com/tech/personal-tech/he-stol...  NaN  \n",
       "1  https://www.ndtv.com/india-news/21-cases-of-ne...  NaN  \n",
       "2  https://www.hindustantimes.com/technology/10-b...  NaN  \n",
       "3                                https://removed.com  NaN  \n",
       "4  https://www.livelaw.in/top-stories/chief-justi...  NaN  "
      ]
     },
     "execution_count": 18,
     "metadata": {},
     "output_type": "execute_result"
    }
   ],
   "source": [
    "df.head(5)"
   ]
  },
  {
   "cell_type": "code",
   "execution_count": 19,
   "metadata": {},
   "outputs": [
    {
     "data": {
      "text/plain": [
       "Source Name    20\n",
       "Author         15\n",
       "Title          20\n",
       "Description    20\n",
       "Content        20\n",
       "URL             0\n",
       "dtype: int64"
      ]
     },
     "execution_count": 19,
     "metadata": {},
     "output_type": "execute_result"
    }
   ],
   "source": [
    "df.count()"
   ]
  },
  {
   "cell_type": "code",
   "execution_count": 20,
   "metadata": {},
   "outputs": [],
   "source": [
    "# Cleaning the data\n",
    "df = df[df['Title'] != '[Removed]']\n",
    "\n",
    "df = df[df['URL'] != '1970-01-01T00:00:00Z']\n",
    "\n",
    "df.to_csv('../data/cleaned_data.csv', index=False)\n",
    "\n",
    "#remove the ul and "
   ]
  },
  {
   "cell_type": "code",
   "execution_count": 21,
   "metadata": {},
   "outputs": [
    {
     "data": {
      "text/html": [
       "<div>\n",
       "<style scoped>\n",
       "    .dataframe tbody tr th:only-of-type {\n",
       "        vertical-align: middle;\n",
       "    }\n",
       "\n",
       "    .dataframe tbody tr th {\n",
       "        vertical-align: top;\n",
       "    }\n",
       "\n",
       "    .dataframe thead th {\n",
       "        text-align: right;\n",
       "    }\n",
       "</style>\n",
       "<table border=\"1\" class=\"dataframe\">\n",
       "  <thead>\n",
       "    <tr style=\"text-align: right;\">\n",
       "      <th></th>\n",
       "      <th>Source Name</th>\n",
       "      <th>Author</th>\n",
       "      <th>Title</th>\n",
       "      <th>Description</th>\n",
       "      <th>Content</th>\n",
       "      <th>URL</th>\n",
       "    </tr>\n",
       "  </thead>\n",
       "  <tbody>\n",
       "    <tr>\n",
       "      <th>0</th>\n",
       "      <td>The Wall Street Journal</td>\n",
       "      <td>Joanna Stern</td>\n",
       "      <td>He Stole Hundreds of iPhones and Looted People...</td>\n",
       "      <td>A convicted iPhone thief explains how a vulner...</td>\n",
       "      <td>https://www.wsj.com/tech/personal-tech/he-stol...</td>\n",
       "      <td>NaN</td>\n",
       "    </tr>\n",
       "    <tr>\n",
       "      <th>1</th>\n",
       "      <td>NDTV News</td>\n",
       "      <td>NaN</td>\n",
       "      <td>21 Cases Of New Covid Variant JN.1 In India Co...</td>\n",
       "      <td>India has so far reported 21 cases of the new ...</td>\n",
       "      <td>https://www.ndtv.com/india-news/21-cases-of-ne...</td>\n",
       "      <td>NaN</td>\n",
       "    </tr>\n",
       "    <tr>\n",
       "      <th>2</th>\n",
       "      <td>Hindustan Times</td>\n",
       "      <td>Affiliate Desk</td>\n",
       "      <td>10 best Samsung 6.5 kg top load washing machin...</td>\n",
       "      <td>We compare the Samsung 6.5 kg top load washing...</td>\n",
       "      <td>https://www.hindustantimes.com/technology/10-b...</td>\n",
       "      <td>NaN</td>\n",
       "    </tr>\n",
       "    <tr>\n",
       "      <th>3</th>\n",
       "      <td>Livelaw.in</td>\n",
       "      <td>Awstika Das</td>\n",
       "      <td>CJI DY Chandrachud Flagged Anomalies In GST Ap...</td>\n",
       "      <td>Union Finance Minister Nirmala Sitharaman on T...</td>\n",
       "      <td>https://www.livelaw.in/top-stories/chief-justi...</td>\n",
       "      <td>NaN</td>\n",
       "    </tr>\n",
       "    <tr>\n",
       "      <th>4</th>\n",
       "      <td>Technology Networks</td>\n",
       "      <td>Technology Networks</td>\n",
       "      <td>Genetics of Host Plants Determine What Microor...</td>\n",
       "      <td>Chemical signals from host plants, determined ...</td>\n",
       "      <td>https://www.technologynetworks.com/genomics/ne...</td>\n",
       "      <td>NaN</td>\n",
       "    </tr>\n",
       "  </tbody>\n",
       "</table>\n",
       "</div>"
      ],
      "text/plain": [
       "               Source Name               Author  \\\n",
       "0  The Wall Street Journal         Joanna Stern   \n",
       "1                NDTV News                  NaN   \n",
       "2          Hindustan Times       Affiliate Desk   \n",
       "3               Livelaw.in          Awstika Das   \n",
       "4      Technology Networks  Technology Networks   \n",
       "\n",
       "                                               Title  \\\n",
       "0  He Stole Hundreds of iPhones and Looted People...   \n",
       "1  21 Cases Of New Covid Variant JN.1 In India Co...   \n",
       "2  10 best Samsung 6.5 kg top load washing machin...   \n",
       "3  CJI DY Chandrachud Flagged Anomalies In GST Ap...   \n",
       "4  Genetics of Host Plants Determine What Microor...   \n",
       "\n",
       "                                         Description  \\\n",
       "0  A convicted iPhone thief explains how a vulner...   \n",
       "1  India has so far reported 21 cases of the new ...   \n",
       "2  We compare the Samsung 6.5 kg top load washing...   \n",
       "3  Union Finance Minister Nirmala Sitharaman on T...   \n",
       "4  Chemical signals from host plants, determined ...   \n",
       "\n",
       "                                             Content  URL  \n",
       "0  https://www.wsj.com/tech/personal-tech/he-stol...  NaN  \n",
       "1  https://www.ndtv.com/india-news/21-cases-of-ne...  NaN  \n",
       "2  https://www.hindustantimes.com/technology/10-b...  NaN  \n",
       "3  https://www.livelaw.in/top-stories/chief-justi...  NaN  \n",
       "4  https://www.technologynetworks.com/genomics/ne...  NaN  "
      ]
     },
     "execution_count": 21,
     "metadata": {},
     "output_type": "execute_result"
    }
   ],
   "source": [
    "df = pd.read_csv(\"../data/cleaned_data.csv\")      \n",
    "df.head(5)  "
   ]
  },
  {
   "cell_type": "code",
   "execution_count": 22,
   "metadata": {},
   "outputs": [
    {
     "data": {
      "text/plain": [
       "Source Name    19\n",
       "Author         15\n",
       "Title          19\n",
       "Description    19\n",
       "Content        19\n",
       "URL             0\n",
       "dtype: int64"
      ]
     },
     "execution_count": 22,
     "metadata": {},
     "output_type": "execute_result"
    }
   ],
   "source": [
    "df.count()"
   ]
  }
 ],
 "metadata": {
  "kernelspec": {
   "display_name": "Python 3 (ipykernel)",
   "language": "python",
   "name": "python3"
  }
 },
 "nbformat": 4,
 "nbformat_minor": 2
}
