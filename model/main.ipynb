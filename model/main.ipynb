{
 "cells": [
  {
   "cell_type": "code",
   "execution_count": 5,
   "metadata": {},
   "outputs": [],
   "source": [
    "import pandas as pd"
   ]
  },
  {
   "cell_type": "code",
   "execution_count": 6,
   "metadata": {},
   "outputs": [],
   "source": [
    "df = pd.read_csv(\"../data/data.csv\")\n"
   ]
  },
  {
   "cell_type": "code",
   "execution_count": 8,
   "metadata": {},
   "outputs": [
    {
     "data": {
      "text/html": [
       "<div>\n",
       "<style scoped>\n",
       "    .dataframe tbody tr th:only-of-type {\n",
       "        vertical-align: middle;\n",
       "    }\n",
       "\n",
       "    .dataframe tbody tr th {\n",
       "        vertical-align: top;\n",
       "    }\n",
       "\n",
       "    .dataframe thead th {\n",
       "        text-align: right;\n",
       "    }\n",
       "</style>\n",
       "<table border=\"1\" class=\"dataframe\">\n",
       "  <thead>\n",
       "    <tr style=\"text-align: right;\">\n",
       "      <th></th>\n",
       "      <th>Source Name</th>\n",
       "      <th>Author</th>\n",
       "      <th>Title</th>\n",
       "      <th>Description</th>\n",
       "      <th>Content</th>\n",
       "      <th>URL</th>\n",
       "    </tr>\n",
       "  </thead>\n",
       "  <tbody>\n",
       "    <tr>\n",
       "      <th>0</th>\n",
       "      <td>FXStreet</td>\n",
       "      <td>Haresh Menghani</td>\n",
       "      <td>Japanese Yen sticks to modest intraday gains a...</td>\n",
       "      <td>The Japanese Yen (JPY) weakened across the boa...</td>\n",
       "      <td>&lt;ul&gt;&lt;li&gt;The Japanese Yen ticks higher and snap...</td>\n",
       "      <td>https://www.fxstreet.com/news/japanese-yen-rem...</td>\n",
       "    </tr>\n",
       "    <tr>\n",
       "      <th>1</th>\n",
       "      <td>Hindustan Times</td>\n",
       "      <td>Manjiri Chitre</td>\n",
       "      <td>Sonia Gandhi slams Centre on suspension of MPs...</td>\n",
       "      <td>A total of 141 opposition MPs have been suspen...</td>\n",
       "      <td>Congress leader Sonia Gandhi on Wednesday laun...</td>\n",
       "      <td>https://www.hindustantimes.com/india-news/soni...</td>\n",
       "    </tr>\n",
       "    <tr>\n",
       "      <th>2</th>\n",
       "      <td>The Indian Express</td>\n",
       "      <td>Anurag Chawake</td>\n",
       "      <td>Christmas 2023: From cameras to earbuds, budge...</td>\n",
       "      <td>Christmas is here. If you are looking forward ...</td>\n",
       "      <td>With Christmas less than a week away, now is t...</td>\n",
       "      <td>https://indianexpress.com/article/technology/t...</td>\n",
       "    </tr>\n",
       "    <tr>\n",
       "      <th>3</th>\n",
       "      <td>Hindustan Times</td>\n",
       "      <td>HT Sports Desk</td>\n",
       "      <td>From Sameer Rizvi to Robin Minz: Why franchise...</td>\n",
       "      <td>Sameer Rizvi was sold for INR 8.4 crore (to Ch...</td>\n",
       "      <td>The 2024 IPL auction, held in Dubai, was chara...</td>\n",
       "      <td>https://www.hindustantimes.com/cricket/from-sa...</td>\n",
       "    </tr>\n",
       "    <tr>\n",
       "      <th>4</th>\n",
       "      <td>Entertainment Tonight</td>\n",
       "      <td>Meredith B. Kile</td>\n",
       "      <td>'The Voice' Winner Huntley Shares His Apprecia...</td>\n",
       "      <td>The rocker and father of two made his coach a ...</td>\n",
       "      <td>The Voice has crowned its season 24 champion, ...</td>\n",
       "      <td>https://www.etonline.com/the-voice-winner-hunt...</td>\n",
       "    </tr>\n",
       "  </tbody>\n",
       "</table>\n",
       "</div>"
      ],
      "text/plain": [
       "             Source Name            Author  \\\n",
       "0               FXStreet   Haresh Menghani   \n",
       "1        Hindustan Times    Manjiri Chitre   \n",
       "2     The Indian Express    Anurag Chawake   \n",
       "3        Hindustan Times    HT Sports Desk   \n",
       "4  Entertainment Tonight  Meredith B. Kile   \n",
       "\n",
       "                                               Title  \\\n",
       "0  Japanese Yen sticks to modest intraday gains a...   \n",
       "1  Sonia Gandhi slams Centre on suspension of MPs...   \n",
       "2  Christmas 2023: From cameras to earbuds, budge...   \n",
       "3  From Sameer Rizvi to Robin Minz: Why franchise...   \n",
       "4  'The Voice' Winner Huntley Shares His Apprecia...   \n",
       "\n",
       "                                         Description  \\\n",
       "0  The Japanese Yen (JPY) weakened across the boa...   \n",
       "1  A total of 141 opposition MPs have been suspen...   \n",
       "2  Christmas is here. If you are looking forward ...   \n",
       "3  Sameer Rizvi was sold for INR 8.4 crore (to Ch...   \n",
       "4  The rocker and father of two made his coach a ...   \n",
       "\n",
       "                                             Content  \\\n",
       "0  <ul><li>The Japanese Yen ticks higher and snap...   \n",
       "1  Congress leader Sonia Gandhi on Wednesday laun...   \n",
       "2  With Christmas less than a week away, now is t...   \n",
       "3  The 2024 IPL auction, held in Dubai, was chara...   \n",
       "4  The Voice has crowned its season 24 champion, ...   \n",
       "\n",
       "                                                 URL  \n",
       "0  https://www.fxstreet.com/news/japanese-yen-rem...  \n",
       "1  https://www.hindustantimes.com/india-news/soni...  \n",
       "2  https://indianexpress.com/article/technology/t...  \n",
       "3  https://www.hindustantimes.com/cricket/from-sa...  \n",
       "4  https://www.etonline.com/the-voice-winner-hunt...  "
      ]
     },
     "execution_count": 8,
     "metadata": {},
     "output_type": "execute_result"
    }
   ],
   "source": [
    "df.head(5)"
   ]
  },
  {
   "cell_type": "code",
   "execution_count": 9,
   "metadata": {},
   "outputs": [
    {
     "data": {
      "text/plain": [
       "Source Name    20\n",
       "Author         14\n",
       "Title          20\n",
       "Description    20\n",
       "Content        18\n",
       "URL            20\n",
       "dtype: int64"
      ]
     },
     "execution_count": 9,
     "metadata": {},
     "output_type": "execute_result"
    }
   ],
   "source": [
    "df.count()"
   ]
  },
  {
   "cell_type": "code",
   "execution_count": 10,
   "metadata": {},
   "outputs": [],
   "source": [
    "# Cleaning the data\n",
    "df = df[df['Title'] != '[Removed]']\n",
    "\n",
    "df = df[df['URL'] != '1970-01-01T00:00:00Z']\n",
    "\n",
    "df.to_csv('../data/cleaned_data.csv', index=False)"
   ]
  },
  {
   "cell_type": "code",
   "execution_count": 12,
   "metadata": {},
   "outputs": [
    {
     "data": {
      "text/html": [
       "<div>\n",
       "<style scoped>\n",
       "    .dataframe tbody tr th:only-of-type {\n",
       "        vertical-align: middle;\n",
       "    }\n",
       "\n",
       "    .dataframe tbody tr th {\n",
       "        vertical-align: top;\n",
       "    }\n",
       "\n",
       "    .dataframe thead th {\n",
       "        text-align: right;\n",
       "    }\n",
       "</style>\n",
       "<table border=\"1\" class=\"dataframe\">\n",
       "  <thead>\n",
       "    <tr style=\"text-align: right;\">\n",
       "      <th></th>\n",
       "      <th>Source Name</th>\n",
       "      <th>Author</th>\n",
       "      <th>Title</th>\n",
       "      <th>Description</th>\n",
       "      <th>Content</th>\n",
       "      <th>URL</th>\n",
       "    </tr>\n",
       "  </thead>\n",
       "  <tbody>\n",
       "    <tr>\n",
       "      <th>0</th>\n",
       "      <td>FXStreet</td>\n",
       "      <td>Haresh Menghani</td>\n",
       "      <td>Japanese Yen sticks to modest intraday gains a...</td>\n",
       "      <td>The Japanese Yen (JPY) weakened across the boa...</td>\n",
       "      <td>&lt;ul&gt;&lt;li&gt;The Japanese Yen ticks higher and snap...</td>\n",
       "      <td>https://www.fxstreet.com/news/japanese-yen-rem...</td>\n",
       "    </tr>\n",
       "    <tr>\n",
       "      <th>1</th>\n",
       "      <td>Hindustan Times</td>\n",
       "      <td>Manjiri Chitre</td>\n",
       "      <td>Sonia Gandhi slams Centre on suspension of MPs...</td>\n",
       "      <td>A total of 141 opposition MPs have been suspen...</td>\n",
       "      <td>Congress leader Sonia Gandhi on Wednesday laun...</td>\n",
       "      <td>https://www.hindustantimes.com/india-news/soni...</td>\n",
       "    </tr>\n",
       "    <tr>\n",
       "      <th>2</th>\n",
       "      <td>The Indian Express</td>\n",
       "      <td>Anurag Chawake</td>\n",
       "      <td>Christmas 2023: From cameras to earbuds, budge...</td>\n",
       "      <td>Christmas is here. If you are looking forward ...</td>\n",
       "      <td>With Christmas less than a week away, now is t...</td>\n",
       "      <td>https://indianexpress.com/article/technology/t...</td>\n",
       "    </tr>\n",
       "    <tr>\n",
       "      <th>3</th>\n",
       "      <td>Hindustan Times</td>\n",
       "      <td>HT Sports Desk</td>\n",
       "      <td>From Sameer Rizvi to Robin Minz: Why franchise...</td>\n",
       "      <td>Sameer Rizvi was sold for INR 8.4 crore (to Ch...</td>\n",
       "      <td>The 2024 IPL auction, held in Dubai, was chara...</td>\n",
       "      <td>https://www.hindustantimes.com/cricket/from-sa...</td>\n",
       "    </tr>\n",
       "    <tr>\n",
       "      <th>4</th>\n",
       "      <td>Entertainment Tonight</td>\n",
       "      <td>Meredith B. Kile</td>\n",
       "      <td>'The Voice' Winner Huntley Shares His Apprecia...</td>\n",
       "      <td>The rocker and father of two made his coach a ...</td>\n",
       "      <td>The Voice has crowned its season 24 champion, ...</td>\n",
       "      <td>https://www.etonline.com/the-voice-winner-hunt...</td>\n",
       "    </tr>\n",
       "  </tbody>\n",
       "</table>\n",
       "</div>"
      ],
      "text/plain": [
       "             Source Name            Author  \\\n",
       "0               FXStreet   Haresh Menghani   \n",
       "1        Hindustan Times    Manjiri Chitre   \n",
       "2     The Indian Express    Anurag Chawake   \n",
       "3        Hindustan Times    HT Sports Desk   \n",
       "4  Entertainment Tonight  Meredith B. Kile   \n",
       "\n",
       "                                               Title  \\\n",
       "0  Japanese Yen sticks to modest intraday gains a...   \n",
       "1  Sonia Gandhi slams Centre on suspension of MPs...   \n",
       "2  Christmas 2023: From cameras to earbuds, budge...   \n",
       "3  From Sameer Rizvi to Robin Minz: Why franchise...   \n",
       "4  'The Voice' Winner Huntley Shares His Apprecia...   \n",
       "\n",
       "                                         Description  \\\n",
       "0  The Japanese Yen (JPY) weakened across the boa...   \n",
       "1  A total of 141 opposition MPs have been suspen...   \n",
       "2  Christmas is here. If you are looking forward ...   \n",
       "3  Sameer Rizvi was sold for INR 8.4 crore (to Ch...   \n",
       "4  The rocker and father of two made his coach a ...   \n",
       "\n",
       "                                             Content  \\\n",
       "0  <ul><li>The Japanese Yen ticks higher and snap...   \n",
       "1  Congress leader Sonia Gandhi on Wednesday laun...   \n",
       "2  With Christmas less than a week away, now is t...   \n",
       "3  The 2024 IPL auction, held in Dubai, was chara...   \n",
       "4  The Voice has crowned its season 24 champion, ...   \n",
       "\n",
       "                                                 URL  \n",
       "0  https://www.fxstreet.com/news/japanese-yen-rem...  \n",
       "1  https://www.hindustantimes.com/india-news/soni...  \n",
       "2  https://indianexpress.com/article/technology/t...  \n",
       "3  https://www.hindustantimes.com/cricket/from-sa...  \n",
       "4  https://www.etonline.com/the-voice-winner-hunt...  "
      ]
     },
     "execution_count": 12,
     "metadata": {},
     "output_type": "execute_result"
    }
   ],
   "source": [
    "df = pd.read_csv(\"../data/cleaned_data.csv\")      \n",
    "df.head(5)"
   ]
  },
  {
   "cell_type": "code",
   "execution_count": 15,
   "metadata": {},
   "outputs": [
    {
     "data": {
      "text/plain": [
       "Source Name    18\n",
       "Author         14\n",
       "Title          18\n",
       "Description    18\n",
       "Content        16\n",
       "URL            18\n",
       "dtype: int64"
      ]
     },
     "execution_count": 15,
     "metadata": {},
     "output_type": "execute_result"
    }
   ],
   "source": [
    "df.count()"
   ]
  },
  {
   "cell_type": "code",
   "execution_count": null,
   "metadata": {},
   "outputs": [],
   "source": []
  }
 ],
 "metadata": {
  "kernelspec": {
   "display_name": "Python 3 (ipykernel)",
   "language": "python",
   "name": "python3"
  },
  "language_info": {
   "codemirror_mode": {
    "name": "ipython",
    "version": 3
   },
   "file_extension": ".py",
   "mimetype": "text/x-python",
   "name": "python",
   "nbconvert_exporter": "python",
   "pygments_lexer": "ipython3",
   "version": "3.10.7"
  }
 },
 "nbformat": 4,
 "nbformat_minor": 2
}
